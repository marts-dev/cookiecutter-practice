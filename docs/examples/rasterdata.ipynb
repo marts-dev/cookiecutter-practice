{
 "cells": [
  {
   "cell_type": "markdown",
   "id": "caf10a22",
   "metadata": {},
   "source": [
    "# Raster Data Visualization\n",
    "This notebook will show you examples on how to display Raster data, images, videos and WMS data."
   ]
  },
  {
   "cell_type": "markdown",
   "id": "a2adf054",
   "metadata": {},
   "source": [
    "[![Open In Colab](https://colab.research.google.com/assets/colab-badge.svg)](https://colab.research.google.com/github/marts-dev/cookiecutter-practice/blob/main/docs/examples/rasterdata.ipynb)"
   ]
  },
  {
   "cell_type": "code",
   "execution_count": 1,
   "id": "cf71c7c2",
   "metadata": {},
   "outputs": [],
   "source": [
    "import rasterio\n",
    "import rasterio.plot\n",
    "import geopandas as gpd\n",
    "import numpy as np\n",
    "import matplotlib.pyplot as plt"
   ]
  },
  {
   "cell_type": "code",
   "execution_count": 2,
   "id": "7418e1f5",
   "metadata": {},
   "outputs": [
    {
     "name": "stdout",
     "output_type": "stream",
     "text": [
      "<open DatasetReader name='https://github.com/opengeos/datasets/releases/download/raster/dem_90m.tif' mode='r'>\n"
     ]
    }
   ],
   "source": [
    "raster_path = (\n",
    "  \"https://github.com/opengeos/datasets/releases/download/raster/dem_90m.tif\"\n",
    ")\n",
    "src = rasterio.open(raster_path)\n",
    "print(src)"
   ]
  },
  {
   "cell_type": "code",
   "execution_count": 3,
   "id": "5c923c31",
   "metadata": {},
   "outputs": [
    {
     "data": {
      "text/plain": [
       "'https://github.com/opengeos/datasets/releases/download/raster/dem_90m.tif'"
      ]
     },
     "execution_count": 3,
     "metadata": {},
     "output_type": "execute_result"
    }
   ],
   "source": [
    "src.name"
   ]
  },
  {
   "cell_type": "code",
   "execution_count": 4,
   "id": "bb6bb89d",
   "metadata": {},
   "outputs": [
    {
     "data": {
      "text/plain": [
       "'r'"
      ]
     },
     "execution_count": 4,
     "metadata": {},
     "output_type": "execute_result"
    }
   ],
   "source": [
    "src.mode"
   ]
  },
  {
   "cell_type": "code",
   "execution_count": 5,
   "id": "0398a18e",
   "metadata": {},
   "outputs": [
    {
     "data": {
      "text/plain": [
       "{'driver': 'GTiff',\n",
       " 'dtype': 'int16',\n",
       " 'nodata': None,\n",
       " 'width': 4269,\n",
       " 'height': 3113,\n",
       " 'count': 1,\n",
       " 'crs': CRS.from_wkt('PROJCS[\"WGS 84 / Pseudo-Mercator\",GEOGCS[\"WGS 84\",DATUM[\"WGS_1984\",SPHEROID[\"WGS 84\",6378137,298.257223563,AUTHORITY[\"EPSG\",\"7030\"]],AUTHORITY[\"EPSG\",\"6326\"]],PRIMEM[\"Greenwich\",0,AUTHORITY[\"EPSG\",\"8901\"]],UNIT[\"degree\",0.0174532925199433,AUTHORITY[\"EPSG\",\"9122\"]],AUTHORITY[\"EPSG\",\"4326\"]],PROJECTION[\"Mercator_1SP\"],PARAMETER[\"central_meridian\",0],PARAMETER[\"scale_factor\",1],PARAMETER[\"false_easting\",0],PARAMETER[\"false_northing\",0],UNIT[\"metre\",1,AUTHORITY[\"EPSG\",\"9001\"]],AXIS[\"Easting\",EAST],AXIS[\"Northing\",NORTH],EXTENSION[\"PROJ4\",\"+proj=merc +a=6378137 +b=6378137 +lat_ts=0 +lon_0=0 +x_0=0 +y_0=0 +k=1 +units=m +nadgrids=@null +wktext +no_defs\"],AUTHORITY[\"EPSG\",\"3857\"]]'),\n",
       " 'transform': Affine(90.0, 0.0, -13442488.3428,\n",
       "        0.0, -89.99579177642138, 4668371.5775)}"
      ]
     },
     "execution_count": 5,
     "metadata": {},
     "output_type": "execute_result"
    }
   ],
   "source": [
    "src.meta"
   ]
  },
  {
   "cell_type": "markdown",
   "id": "a58ff73a",
   "metadata": {},
   "source": [
    "## Coordinate Reference System (CRS)\n",
    "The CRS describes how the 2D pixel values relate to real-world geographic coordinates(latitude and longitude or projected coordinates). Knowing the CRS is essential for interpreting the data in a meaningful way. To retrieve the CRS:"
   ]
  },
  {
   "cell_type": "code",
   "execution_count": 6,
   "id": "233dcc63",
   "metadata": {},
   "outputs": [
    {
     "data": {
      "text/plain": [
       "CRS.from_wkt('PROJCS[\"WGS 84 / Pseudo-Mercator\",GEOGCS[\"WGS 84\",DATUM[\"WGS_1984\",SPHEROID[\"WGS 84\",6378137,298.257223563,AUTHORITY[\"EPSG\",\"7030\"]],AUTHORITY[\"EPSG\",\"6326\"]],PRIMEM[\"Greenwich\",0,AUTHORITY[\"EPSG\",\"8901\"]],UNIT[\"degree\",0.0174532925199433,AUTHORITY[\"EPSG\",\"9122\"]],AUTHORITY[\"EPSG\",\"4326\"]],PROJECTION[\"Mercator_1SP\"],PARAMETER[\"central_meridian\",0],PARAMETER[\"scale_factor\",1],PARAMETER[\"false_easting\",0],PARAMETER[\"false_northing\",0],UNIT[\"metre\",1,AUTHORITY[\"EPSG\",\"9001\"]],AXIS[\"Easting\",EAST],AXIS[\"Northing\",NORTH],EXTENSION[\"PROJ4\",\"+proj=merc +a=6378137 +b=6378137 +lat_ts=0 +lon_0=0 +x_0=0 +y_0=0 +k=1 +units=m +nadgrids=@null +wktext +no_defs\"],AUTHORITY[\"EPSG\",\"3857\"]]')"
      ]
     },
     "execution_count": 6,
     "metadata": {},
     "output_type": "execute_result"
    }
   ],
   "source": [
    "src.crs"
   ]
  },
  {
   "cell_type": "markdown",
   "id": "3cfbf650",
   "metadata": {},
   "source": [
    "## Spatial Resolution:\n",
    "The resolution of a raster refers to the size of one pixel in real-world units(e.g. meters). You can access the resolution using the `res` attribute:"
   ]
  },
  {
   "cell_type": "code",
   "execution_count": 7,
   "id": "3d3fd4b6",
   "metadata": {},
   "outputs": [
    {
     "data": {
      "text/plain": [
       "(90.0, 89.99579177642138)"
      ]
     },
     "execution_count": 7,
     "metadata": {},
     "output_type": "execute_result"
    }
   ],
   "source": [
    "src.res"
   ]
  },
  {
   "cell_type": "markdown",
   "id": "d0aabbf9",
   "metadata": {},
   "source": [
    "## Dimensions: Width and Height\n",
    "The width and height provide the number of pixels along the x-axis and y-axis, repectively. These numbers indicate the grid's size in pixels."
   ]
  },
  {
   "cell_type": "code",
   "execution_count": 8,
   "id": "0f9eb38a",
   "metadata": {},
   "outputs": [
    {
     "data": {
      "text/plain": [
       "4269"
      ]
     },
     "execution_count": 8,
     "metadata": {},
     "output_type": "execute_result"
    }
   ],
   "source": [
    "src.width"
   ]
  },
  {
   "cell_type": "code",
   "execution_count": 9,
   "id": "a1472fd2",
   "metadata": {},
   "outputs": [
    {
     "data": {
      "text/plain": [
       "3113"
      ]
     },
     "execution_count": 9,
     "metadata": {},
     "output_type": "execute_result"
    }
   ],
   "source": [
    "src.height"
   ]
  },
  {
   "cell_type": "markdown",
   "id": "5a6e2590",
   "metadata": {},
   "source": [
    "## Bounds\n",
    "The `bounds` attribute provides the geographical extent of the raster dataset, represented by the coordinates of the edges of the raster(left, bottom, right, top)."
   ]
  },
  {
   "cell_type": "code",
   "execution_count": 10,
   "id": "c0700f72",
   "metadata": {},
   "outputs": [
    {
     "data": {
      "text/plain": [
       "BoundingBox(left=-13442488.3428, bottom=4388214.6777, right=-13058278.3428, top=4668371.5775)"
      ]
     },
     "execution_count": 10,
     "metadata": {},
     "output_type": "execute_result"
    }
   ],
   "source": [
    "src.bounds"
   ]
  },
  {
   "cell_type": "markdown",
   "id": "926d10b7",
   "metadata": {},
   "source": [
    "## Data Types\n",
    "The `dtypes` attribute gives you the data type of each pixel value (e.g. `uint8`,`int16`, `float32`). This is important when performing mathematical operations on the raster data."
   ]
  },
  {
   "cell_type": "code",
   "execution_count": 11,
   "id": "0b6d3837",
   "metadata": {},
   "outputs": [
    {
     "data": {
      "text/plain": [
       "('int16',)"
      ]
     },
     "execution_count": 11,
     "metadata": {},
     "output_type": "execute_result"
    }
   ],
   "source": [
    "src.dtypes"
   ]
  },
  {
   "cell_type": "markdown",
   "id": "d5abdb5d",
   "metadata": {},
   "source": [
    "## Affine Transform\n",
    "The affine transform matrix maps pixel coordinates to geographic coordinates. This transform is essential for understanding how the pixel locations relate to real-world coordinates."
   ]
  },
  {
   "cell_type": "code",
   "execution_count": 12,
   "id": "722cdc12",
   "metadata": {},
   "outputs": [
    {
     "data": {
      "text/plain": [
       "Affine(90.0, 0.0, -13442488.3428,\n",
       "       0.0, -89.99579177642138, 4668371.5775)"
      ]
     },
     "execution_count": 12,
     "metadata": {},
     "output_type": "execute_result"
    }
   ],
   "source": [
    "src.transform"
   ]
  },
  {
   "cell_type": "markdown",
   "id": "380f75f3",
   "metadata": {},
   "source": [
    "The transformation matrix consists of six parameters that control the scaling, translation, and rotation of the raster. Most rasters will have no rotation (b, d are 0), but the transformation will include the pixel size (a, e) and the geographic coordinates of the top-left pixel (c, f).\n",
    "\n",
    "a: width of a pixel in the x-direction\n",
    "\n",
    "b: row rotation (typically zero)\n",
    "\n",
    "c: x-coordinate of the upper-left corner of the upper-left pixel\n",
    "\n",
    "d: column rotation (typically zero)\n",
    "\n",
    "e: height of a pixel in the y-direction (typically negative)\n",
    "\n",
    "f: y-coordinate of the of the upper-left corner of the upper-left pixel\n",
    "\n",
    "a and e are the pixel width and height, respectively, and c and f are the coordinates of the upper-left corner of the raster. The other coefficients are used for rotation and shearing."
   ]
  },
  {
   "cell_type": "markdown",
   "id": "025cb5d2",
   "metadata": {},
   "source": [
    "## Local Tile Server"
   ]
  },
  {
   "cell_type": "code",
   "execution_count": 2,
   "id": "a2f7950b",
   "metadata": {},
   "outputs": [],
   "source": [
    "from localtileserver import TileClient, get_leaflet_tile_layer\n",
    "from ipyleaflet import Map, LayersControl, LegendControl"
   ]
  },
  {
   "cell_type": "code",
   "execution_count": 2,
   "id": "93331c66",
   "metadata": {},
   "outputs": [],
   "source": [
    "from matplotlib.colors import ListedColormap"
   ]
  },
  {
   "cell_type": "code",
   "execution_count": 3,
   "id": "9be93488",
   "metadata": {},
   "outputs": [],
   "source": [
    "client = TileClient(\"https://storage.googleapis.com/philsa-space-data-dashboard/LandCoverAndLandUse/2022_LandCover_4326_new.tif\")\n",
    "\n",
    "t = get_leaflet_tile_layer(client, name=\"Land Cover and Land Use\", opacity=0.8)"
   ]
  },
  {
   "cell_type": "code",
   "execution_count": 3,
   "id": "607299d8",
   "metadata": {},
   "outputs": [
    {
     "data": {
      "text/plain": [
       "(12.1249655, 121.750104)"
      ]
     },
     "execution_count": 3,
     "metadata": {},
     "output_type": "execute_result"
    }
   ],
   "source": [
    "client.center()"
   ]
  },
  {
   "cell_type": "code",
   "execution_count": 4,
   "id": "30155872",
   "metadata": {},
   "outputs": [
    {
     "data": {
      "text/plain": [
       "4"
      ]
     },
     "execution_count": 4,
     "metadata": {},
     "output_type": "execute_result"
    }
   ],
   "source": [
    "client.default_zoom"
   ]
  },
  {
   "cell_type": "code",
   "execution_count": 61,
   "id": "d1249991",
   "metadata": {},
   "outputs": [
    {
     "data": {
      "text/plain": [
       "Info(bounds=(116.50008, 4.499751089, 127.000128029, 19.750180174), crs='http://www.opengis.net/def/crs/EPSG/0/4326', band_metadata=[('b1', {}), ('b2', {}), ('b3', {}), ('b4', {})], band_descriptions=[('b1', ''), ('b2', ''), ('b3', ''), ('b4', '')], dtype='uint8', nodata_type='Alpha', colorinterp=['red', 'green', 'blue', 'alpha'], scales=[1.0, 1.0, 1.0, 1.0], offsets=[0.0, 0.0, 0.0, 0.0], colormap=None, driver='GTiff', count=4, width=38962, height=56589, overviews=[2, 4, 8, 16, 32, 64, 128])"
      ]
     },
     "execution_count": 61,
     "metadata": {},
     "output_type": "execute_result"
    }
   ],
   "source": [
    "client.info"
   ]
  },
  {
   "cell_type": "code",
   "execution_count": 67,
   "id": "af979212",
   "metadata": {},
   "outputs": [
    {
     "data": {
      "text/plain": [
       "array([0, 0, 0, ..., 0, 0, 0], shape=(38962,), dtype=uint8)"
      ]
     },
     "execution_count": 67,
     "metadata": {},
     "output_type": "execute_result"
    }
   ],
   "source": [
    "client.dataset.read()[0][0]"
   ]
  },
  {
   "cell_type": "code",
   "execution_count": 8,
   "id": "a2d9fe30",
   "metadata": {},
   "outputs": [
    {
     "data": {
      "text/plain": [
       "Info(bounds=(116.50008, 4.499751089, 127.000128029, 19.750180174), crs='http://www.opengis.net/def/crs/EPSG/0/4326', band_metadata=[('b1', {}), ('b2', {}), ('b3', {}), ('b4', {})], band_descriptions=[('b1', ''), ('b2', ''), ('b3', ''), ('b4', '')], dtype='uint8', nodata_type='Alpha', colorinterp=['red', 'green', 'blue', 'alpha'], scales=[1.0, 1.0, 1.0, 1.0], offsets=[0.0, 0.0, 0.0, 0.0], colormap=None, driver='GTiff', count=4, width=38962, height=56589, overviews=[2, 4, 8, 16, 32, 64, 128])"
      ]
     },
     "execution_count": 8,
     "metadata": {},
     "output_type": "execute_result"
    }
   ],
   "source": [
    "client.info"
   ]
  },
  {
   "cell_type": "code",
   "execution_count": 4,
   "id": "35a7b4c9",
   "metadata": {},
   "outputs": [
    {
     "data": {
      "application/vnd.jupyter.widget-view+json": {
       "model_id": "db5ca167c2f9467083a1ff4700d4a159",
       "version_major": 2,
       "version_minor": 0
      },
      "text/plain": [
       "Map(center=[12.1249655, 121.750104], controls=(ZoomControl(options=['position', 'zoom_in_text', 'zoom_in_title…"
      ]
     },
     "execution_count": 4,
     "metadata": {},
     "output_type": "execute_result"
    }
   ],
   "source": [
    "m = Map(center=client.center(), zoom=client.default_zoom, height=\"1200px\")\n",
    "m.add(t)\n",
    "m.add(LayersControl(position=\"topright\"))\n",
    "land_cover_colors = {\n",
    "  \"No Data\": \"#000601\",\n",
    "  \"Annual Crop\": \"#FF7F00\",\n",
    "  \"Aquaculture\": \"#79A191\",\n",
    "  \"Barren Land\": \"#A5A5A5\",\n",
    "  \"Dense Urban/Continuous Urban Fabric\": \"#D7191C\",\n",
    "  \"Forest\": \"#228B22\",\n",
    "  \"Grassland\": \"#55D400\",\n",
    "  \"Mangrove\": \"#778B22\",\n",
    "  \"Paddy Rice\": \"#05BD9B\",\n",
    "  \"Permanent Crop\": \"#F0C420\",\n",
    "  \"Shrubland\": \"#B6FF05\",\n",
    "  \"Sparse Urban/Discontinuous Urban Fabric\": \"#D718C1\",\n",
    "  \"Water\": \"rgb(31, 120, 180)\"\n",
    "}\n",
    "\n",
    "m.add(LegendControl(title=\"Land Cover and Land Use\", legend=land_cover_colors, position=\"bottomright\"))"
   ]
  },
  {
   "cell_type": "code",
   "execution_count": 1,
   "id": "83d695f7",
   "metadata": {},
   "outputs": [
    {
     "name": "stderr",
     "output_type": "stream",
     "text": [
      "WARNING:root:Basemap OpenStreetMap not found. Using OpenTopoMap instead.\n"
     ]
    }
   ],
   "source": [
    "from cookiecutter_practice import LeafMap\n",
    "\n",
    "lf = LeafMap.Map()\n",
    "lf.add_basemap(\"OpenStreetMap\")\n"
   ]
  },
  {
   "cell_type": "code",
   "execution_count": 2,
   "id": "8dc3c96c",
   "metadata": {},
   "outputs": [],
   "source": [
    "raster_path = (\"https://storage.googleapis.com/philsa-space-data-dashboard/LandCoverAndLandUse/2022_LandCover_4326_new.tif\")\n",
    "lf.add_raster(raster_path, name=\"Land Cover and Land Use\", opacity=0.8)"
   ]
  },
  {
   "cell_type": "code",
   "execution_count": 2,
   "id": "86bfb162",
   "metadata": {},
   "outputs": [],
   "source": [
    "lf.add_video(\n",
    "    url=\"https://data.opengeos.org/patricia_nasa.mp4\",\n",
    "    name=\"Land Cover and Land Use Video\",\n",
    "    bounds=((13, -130), (32, -100)),\n",
    "    autoplay=True,\n",
    "    loop=True\n",
    ")"
   ]
  },
  {
   "cell_type": "code",
   "execution_count": 3,
   "id": "7cef225b",
   "metadata": {},
   "outputs": [
    {
     "data": {
      "application/vnd.jupyter.widget-view+json": {
       "model_id": "1348cf9a3d2e43d298f37bd846914aea",
       "version_major": 2,
       "version_minor": 0
      },
      "text/plain": [
       "Map(center=[20, 0], controls=(ZoomControl(options=['position', 'zoom_in_text', 'zoom_in_title', 'zoom_out_text…"
      ]
     },
     "execution_count": 3,
     "metadata": {},
     "output_type": "execute_result"
    }
   ],
   "source": [
    "lf"
   ]
  },
  {
   "cell_type": "code",
   "execution_count": 10,
   "id": "e54cf272",
   "metadata": {},
   "outputs": [],
   "source": [
    "from localtileserver import TileClient, get_folium_tile_layer\n",
    "import folium\n",
    "\n",
    "client = TileClient(\"https://storage.googleapis.com/philsa-space-data-dashboard/LandCoverAndLandUse/2022_LandCover_4326_new.tif\")\n",
    "m = folium.Map(location=client.center(), zoom_start=client.default_zoom, height=\"100%\")"
   ]
  },
  {
   "cell_type": "code",
   "execution_count": 60,
   "id": "55f6c970",
   "metadata": {},
   "outputs": [],
   "source": [
    "t = get_folium_tile_layer(client, name=\"Land Cover and Land Use\", opacity=0.8)"
   ]
  },
  {
   "cell_type": "code",
   "execution_count": 11,
   "id": "9657cc11",
   "metadata": {},
   "outputs": [],
   "source": [
    "fg = folium.FeatureGroup(name=\"Features\", show=True).add_to(m)"
   ]
  },
  {
   "cell_type": "code",
   "execution_count": 62,
   "id": "5f958aaf",
   "metadata": {},
   "outputs": [
    {
     "data": {
      "text/plain": [
       "<folium.map.LayerControl at 0x25bc6cc5700>"
      ]
     },
     "execution_count": 62,
     "metadata": {},
     "output_type": "execute_result"
    }
   ],
   "source": [
    "t.add_to(fg)\n",
    "folium.LayerControl().add_to(m)"
   ]
  },
  {
   "cell_type": "code",
   "execution_count": 63,
   "id": "872bb5ba",
   "metadata": {},
   "outputs": [
    {
     "data": {
      "text/html": [
       "<div style=\"width:100%;\"><div style=\"position:relative;width:100%;height:0;padding-bottom:60%;\"><span style=\"color:#565656\">Make this Notebook Trusted to load map: File -> Trust Notebook</span><iframe srcdoc=\"&lt;!DOCTYPE html&gt;\n",
       "&lt;html&gt;\n",
       "&lt;head&gt;\n",
       "    \n",
       "    &lt;meta http-equiv=&quot;content-type&quot; content=&quot;text/html; charset=UTF-8&quot; /&gt;\n",
       "    \n",
       "        &lt;script&gt;\n",
       "            L_NO_TOUCH = false;\n",
       "            L_DISABLE_3D = false;\n",
       "        &lt;/script&gt;\n",
       "    \n",
       "    &lt;style&gt;html, body {width: 100%;height: 100%;margin: 0;padding: 0;}&lt;/style&gt;\n",
       "    &lt;style&gt;#map {position:absolute;top:0;bottom:0;right:0;left:0;}&lt;/style&gt;\n",
       "    &lt;script src=&quot;https://cdn.jsdelivr.net/npm/leaflet@1.9.3/dist/leaflet.js&quot;&gt;&lt;/script&gt;\n",
       "    &lt;script src=&quot;https://code.jquery.com/jquery-3.7.1.min.js&quot;&gt;&lt;/script&gt;\n",
       "    &lt;script src=&quot;https://cdn.jsdelivr.net/npm/bootstrap@5.2.2/dist/js/bootstrap.bundle.min.js&quot;&gt;&lt;/script&gt;\n",
       "    &lt;script src=&quot;https://cdnjs.cloudflare.com/ajax/libs/Leaflet.awesome-markers/2.0.2/leaflet.awesome-markers.js&quot;&gt;&lt;/script&gt;\n",
       "    &lt;link rel=&quot;stylesheet&quot; href=&quot;https://cdn.jsdelivr.net/npm/leaflet@1.9.3/dist/leaflet.css&quot;/&gt;\n",
       "    &lt;link rel=&quot;stylesheet&quot; href=&quot;https://cdn.jsdelivr.net/npm/bootstrap@5.2.2/dist/css/bootstrap.min.css&quot;/&gt;\n",
       "    &lt;link rel=&quot;stylesheet&quot; href=&quot;https://netdna.bootstrapcdn.com/bootstrap/3.0.0/css/bootstrap-glyphicons.css&quot;/&gt;\n",
       "    &lt;link rel=&quot;stylesheet&quot; href=&quot;https://cdn.jsdelivr.net/npm/@fortawesome/fontawesome-free@6.2.0/css/all.min.css&quot;/&gt;\n",
       "    &lt;link rel=&quot;stylesheet&quot; href=&quot;https://cdnjs.cloudflare.com/ajax/libs/Leaflet.awesome-markers/2.0.2/leaflet.awesome-markers.css&quot;/&gt;\n",
       "    &lt;link rel=&quot;stylesheet&quot; href=&quot;https://cdn.jsdelivr.net/gh/python-visualization/folium/folium/templates/leaflet.awesome.rotate.min.css&quot;/&gt;\n",
       "    \n",
       "            &lt;meta name=&quot;viewport&quot; content=&quot;width=device-width,\n",
       "                initial-scale=1.0, maximum-scale=1.0, user-scalable=no&quot; /&gt;\n",
       "            &lt;style&gt;\n",
       "                #map_26bad161e74f081e7f7b8e5e30120973 {\n",
       "                    position: relative;\n",
       "                    width: 100.0%;\n",
       "                    height: 100.0%;\n",
       "                    left: 0.0%;\n",
       "                    top: 0.0%;\n",
       "                }\n",
       "                .leaflet-container { font-size: 1rem; }\n",
       "            &lt;/style&gt;\n",
       "        \n",
       "&lt;/head&gt;\n",
       "&lt;body&gt;\n",
       "    \n",
       "    \n",
       "            &lt;div class=&quot;folium-map&quot; id=&quot;map_26bad161e74f081e7f7b8e5e30120973&quot; &gt;&lt;/div&gt;\n",
       "        \n",
       "&lt;/body&gt;\n",
       "&lt;script&gt;\n",
       "    \n",
       "    \n",
       "            var map_26bad161e74f081e7f7b8e5e30120973 = L.map(\n",
       "                &quot;map_26bad161e74f081e7f7b8e5e30120973&quot;,\n",
       "                {\n",
       "                    center: [12.1249655, 121.750104],\n",
       "                    crs: L.CRS.EPSG3857,\n",
       "                    ...{\n",
       "  &quot;zoom&quot;: 4,\n",
       "  &quot;zoomControl&quot;: true,\n",
       "  &quot;preferCanvas&quot;: false,\n",
       "}\n",
       "\n",
       "                }\n",
       "            );\n",
       "\n",
       "            \n",
       "\n",
       "        \n",
       "    \n",
       "            var tile_layer_19b4d7145de13a3715880a84335e00b9 = L.tileLayer(\n",
       "                &quot;https://tile.openstreetmap.org/{z}/{x}/{y}.png&quot;,\n",
       "                {\n",
       "  &quot;minZoom&quot;: 0,\n",
       "  &quot;maxZoom&quot;: 19,\n",
       "  &quot;maxNativeZoom&quot;: 19,\n",
       "  &quot;noWrap&quot;: false,\n",
       "  &quot;attribution&quot;: &quot;\\u0026copy; \\u003ca href=\\&quot;https://www.openstreetmap.org/copyright\\&quot;\\u003eOpenStreetMap\\u003c/a\\u003e contributors&quot;,\n",
       "  &quot;subdomains&quot;: &quot;abc&quot;,\n",
       "  &quot;detectRetina&quot;: false,\n",
       "  &quot;tms&quot;: false,\n",
       "  &quot;opacity&quot;: 1,\n",
       "}\n",
       "\n",
       "            );\n",
       "        \n",
       "    \n",
       "            tile_layer_19b4d7145de13a3715880a84335e00b9.addTo(map_26bad161e74f081e7f7b8e5e30120973);\n",
       "        \n",
       "    \n",
       "            var feature_group_d74ca51ede2000b13ecae4d5337e2fd1 = L.featureGroup(\n",
       "                {\n",
       "}\n",
       "            );\n",
       "        \n",
       "    \n",
       "            var tile_layer_4cdfcc888bb92755ac0789c5c03a86d3 = L.tileLayer(\n",
       "                &quot;http://localhost:49241/api/tiles/{z}/{x}/{y}.png?\\u0026filename=%2Fvsicurl%3Furl%3Dhttps%253A%252F%252Fstorage.googleapis.com%252Fphilsa-space-data-dashboard%252FLandCoverAndLandUse%252F2022_LandCover_4326_new.tif%26use_head%3Dno%26list_dir%3Dno&quot;,\n",
       "                {\n",
       "  &quot;minZoom&quot;: 0,\n",
       "  &quot;maxZoom&quot;: 18,\n",
       "  &quot;maxNativeZoom&quot;: 18,\n",
       "  &quot;noWrap&quot;: false,\n",
       "  &quot;attribution&quot;: &quot;Raster file served by \\u003ca href=\\u0027https://github.com/banesullivan/localtileserver\\u0027 target=\\u0027_blank\\u0027\\u003elocaltileserver\\u003c/a\\u003e.&quot;,\n",
       "  &quot;subdomains&quot;: &quot;abc&quot;,\n",
       "  &quot;detectRetina&quot;: false,\n",
       "  &quot;tms&quot;: false,\n",
       "  &quot;opacity&quot;: 0.8,\n",
       "  &quot;bounds&quot;: [[4.499751, 116.50008], [19.75018, 127.000128]],\n",
       "}\n",
       "\n",
       "            );\n",
       "        \n",
       "    \n",
       "            tile_layer_4cdfcc888bb92755ac0789c5c03a86d3.addTo(feature_group_d74ca51ede2000b13ecae4d5337e2fd1);\n",
       "        \n",
       "    \n",
       "            feature_group_d74ca51ede2000b13ecae4d5337e2fd1.addTo(map_26bad161e74f081e7f7b8e5e30120973);\n",
       "        \n",
       "    \n",
       "            var layer_control_64373af36eee08246bc2d1b612f54855_layers = {\n",
       "                base_layers : {\n",
       "                    &quot;openstreetmap&quot; : tile_layer_19b4d7145de13a3715880a84335e00b9,\n",
       "                },\n",
       "                overlays :  {\n",
       "                    &quot;macro_element_d74ca51ede2000b13ecae4d5337e2fd1&quot; : feature_group_d74ca51ede2000b13ecae4d5337e2fd1,\n",
       "                },\n",
       "            };\n",
       "            let layer_control_64373af36eee08246bc2d1b612f54855 = L.control.layers(\n",
       "                layer_control_64373af36eee08246bc2d1b612f54855_layers.base_layers,\n",
       "                layer_control_64373af36eee08246bc2d1b612f54855_layers.overlays,\n",
       "                {\n",
       "  &quot;position&quot;: &quot;topright&quot;,\n",
       "  &quot;collapsed&quot;: true,\n",
       "  &quot;autoZIndex&quot;: true,\n",
       "}\n",
       "            ).addTo(map_26bad161e74f081e7f7b8e5e30120973);\n",
       "\n",
       "        \n",
       "&lt;/script&gt;\n",
       "&lt;/html&gt;\" style=\"position:absolute;width:100%;height:100%;left:0;top:0;border:none !important;\" allowfullscreen webkitallowfullscreen mozallowfullscreen></iframe></div></div>"
      ],
      "text/plain": [
       "<folium.folium.Map at 0x25bc6cc6150>"
      ]
     },
     "execution_count": 63,
     "metadata": {},
     "output_type": "execute_result"
    }
   ],
   "source": [
    "m"
   ]
  },
  {
   "cell_type": "code",
   "execution_count": 6,
   "id": "5778eae7",
   "metadata": {},
   "outputs": [
    {
     "data": {
      "text/html": [
       "<div style=\"width:100%;\"><div style=\"position:relative;width:100%;height:0;padding-bottom:60%;\"><span style=\"color:#565656\">Make this Notebook Trusted to load map: File -> Trust Notebook</span><iframe srcdoc=\"&lt;!DOCTYPE html&gt;\n",
       "&lt;html&gt;\n",
       "&lt;head&gt;\n",
       "    \n",
       "    &lt;meta http-equiv=&quot;content-type&quot; content=&quot;text/html; charset=UTF-8&quot; /&gt;\n",
       "    \n",
       "        &lt;script&gt;\n",
       "            L_NO_TOUCH = false;\n",
       "            L_DISABLE_3D = false;\n",
       "        &lt;/script&gt;\n",
       "    \n",
       "    &lt;style&gt;html, body {width: 100%;height: 100%;margin: 0;padding: 0;}&lt;/style&gt;\n",
       "    &lt;style&gt;#map {position:absolute;top:0;bottom:0;right:0;left:0;}&lt;/style&gt;\n",
       "    &lt;script src=&quot;https://cdn.jsdelivr.net/npm/leaflet@1.9.3/dist/leaflet.js&quot;&gt;&lt;/script&gt;\n",
       "    &lt;script src=&quot;https://code.jquery.com/jquery-3.7.1.min.js&quot;&gt;&lt;/script&gt;\n",
       "    &lt;script src=&quot;https://cdn.jsdelivr.net/npm/bootstrap@5.2.2/dist/js/bootstrap.bundle.min.js&quot;&gt;&lt;/script&gt;\n",
       "    &lt;script src=&quot;https://cdnjs.cloudflare.com/ajax/libs/Leaflet.awesome-markers/2.0.2/leaflet.awesome-markers.js&quot;&gt;&lt;/script&gt;\n",
       "    &lt;link rel=&quot;stylesheet&quot; href=&quot;https://cdn.jsdelivr.net/npm/leaflet@1.9.3/dist/leaflet.css&quot;/&gt;\n",
       "    &lt;link rel=&quot;stylesheet&quot; href=&quot;https://cdn.jsdelivr.net/npm/bootstrap@5.2.2/dist/css/bootstrap.min.css&quot;/&gt;\n",
       "    &lt;link rel=&quot;stylesheet&quot; href=&quot;https://netdna.bootstrapcdn.com/bootstrap/3.0.0/css/bootstrap-glyphicons.css&quot;/&gt;\n",
       "    &lt;link rel=&quot;stylesheet&quot; href=&quot;https://cdn.jsdelivr.net/npm/@fortawesome/fontawesome-free@6.2.0/css/all.min.css&quot;/&gt;\n",
       "    &lt;link rel=&quot;stylesheet&quot; href=&quot;https://cdnjs.cloudflare.com/ajax/libs/Leaflet.awesome-markers/2.0.2/leaflet.awesome-markers.css&quot;/&gt;\n",
       "    &lt;link rel=&quot;stylesheet&quot; href=&quot;https://cdn.jsdelivr.net/gh/python-visualization/folium/folium/templates/leaflet.awesome.rotate.min.css&quot;/&gt;\n",
       "    \n",
       "            &lt;meta name=&quot;viewport&quot; content=&quot;width=device-width,\n",
       "                initial-scale=1.0, maximum-scale=1.0, user-scalable=no&quot; /&gt;\n",
       "            &lt;style&gt;\n",
       "                #map_4b494991d1a727217bc5ed9946a2fbf6 {\n",
       "                    position: relative;\n",
       "                    width: 100.0%;\n",
       "                    height: 100.0%;\n",
       "                    left: 0.0%;\n",
       "                    top: 0.0%;\n",
       "                }\n",
       "                .leaflet-container { font-size: 1rem; }\n",
       "            &lt;/style&gt;\n",
       "        \n",
       "&lt;/head&gt;\n",
       "&lt;body&gt;\n",
       "    \n",
       "    \n",
       "            &lt;div class=&quot;folium-map&quot; id=&quot;map_4b494991d1a727217bc5ed9946a2fbf6&quot; &gt;&lt;/div&gt;\n",
       "        \n",
       "&lt;/body&gt;\n",
       "&lt;script&gt;\n",
       "    \n",
       "    \n",
       "            var map_4b494991d1a727217bc5ed9946a2fbf6 = L.map(\n",
       "                &quot;map_4b494991d1a727217bc5ed9946a2fbf6&quot;,\n",
       "                {\n",
       "                    center: [12.1249655, 121.750104],\n",
       "                    crs: L.CRS.EPSG3857,\n",
       "                    ...{\n",
       "  &quot;zoom&quot;: 4,\n",
       "  &quot;zoomControl&quot;: true,\n",
       "  &quot;preferCanvas&quot;: false,\n",
       "}\n",
       "\n",
       "                }\n",
       "            );\n",
       "\n",
       "            \n",
       "\n",
       "        \n",
       "    \n",
       "            var tile_layer_688c32fc10e483c7e7eadf292548ffee = L.tileLayer(\n",
       "                &quot;https://tile.openstreetmap.org/{z}/{x}/{y}.png&quot;,\n",
       "                {\n",
       "  &quot;minZoom&quot;: 0,\n",
       "  &quot;maxZoom&quot;: 19,\n",
       "  &quot;maxNativeZoom&quot;: 19,\n",
       "  &quot;noWrap&quot;: false,\n",
       "  &quot;attribution&quot;: &quot;\\u0026copy; \\u003ca href=\\&quot;https://www.openstreetmap.org/copyright\\&quot;\\u003eOpenStreetMap\\u003c/a\\u003e contributors&quot;,\n",
       "  &quot;subdomains&quot;: &quot;abc&quot;,\n",
       "  &quot;detectRetina&quot;: false,\n",
       "  &quot;tms&quot;: false,\n",
       "  &quot;opacity&quot;: 1,\n",
       "}\n",
       "\n",
       "            );\n",
       "        \n",
       "    \n",
       "            tile_layer_688c32fc10e483c7e7eadf292548ffee.addTo(map_4b494991d1a727217bc5ed9946a2fbf6);\n",
       "        \n",
       "    \n",
       "            var tile_layer_75b222f89d216d50af1af0b2167e7e05 = L.tileLayer(\n",
       "                &quot;https://{s}.tile.opentopomap.org/{z}/{x}/{y}.png&quot;,\n",
       "                {\n",
       "  &quot;minZoom&quot;: 0,\n",
       "  &quot;maxZoom&quot;: 17,\n",
       "  &quot;maxNativeZoom&quot;: 17,\n",
       "  &quot;noWrap&quot;: false,\n",
       "  &quot;attribution&quot;: &quot;Map data: \\u0026copy; \\u003ca href=\\&quot;https://www.openstreetmap.org/copyright\\&quot;\\u003eOpenStreetMap\\u003c/a\\u003e contributors, \\u003ca href=\\&quot;http://viewfinderpanoramas.org\\&quot;\\u003eSRTM\\u003c/a\\u003e | Map style: \\u0026copy; \\u003ca href=\\&quot;https://opentopomap.org\\&quot;\\u003eOpenTopoMap\\u003c/a\\u003e (\\u003ca href=\\&quot;https://creativecommons.org/licenses/by-sa/3.0/\\&quot;\\u003eCC-BY-SA\\u003c/a\\u003e)&quot;,\n",
       "  &quot;subdomains&quot;: &quot;abc&quot;,\n",
       "  &quot;detectRetina&quot;: false,\n",
       "  &quot;tms&quot;: false,\n",
       "  &quot;opacity&quot;: 1,\n",
       "}\n",
       "\n",
       "            );\n",
       "        \n",
       "    \n",
       "            tile_layer_75b222f89d216d50af1af0b2167e7e05.addTo(map_4b494991d1a727217bc5ed9946a2fbf6);\n",
       "        \n",
       "    \n",
       "            var feature_group_cf354fdcc7eff34cb77238322a40e816 = L.featureGroup(\n",
       "                {\n",
       "}\n",
       "            );\n",
       "        \n",
       "    \n",
       "            var tile_layer_cc0af72d45a46079c3cc578072271c92 = L.tileLayer(\n",
       "                &quot;http://localhost:50362/api/tiles/{z}/{x}/{y}.png?\\u0026filename=%2Fvsicurl%3Furl%3Dhttps%253A%252F%252Fstorage.googleapis.com%252Fphilsa-space-data-dashboard%252FLandCoverAndLandUse%252F2022_LandCover_4326_new.tif%26use_head%3Dno%26list_dir%3Dno&quot;,\n",
       "                {\n",
       "  &quot;minZoom&quot;: 0,\n",
       "  &quot;maxZoom&quot;: 18,\n",
       "  &quot;maxNativeZoom&quot;: 18,\n",
       "  &quot;noWrap&quot;: false,\n",
       "  &quot;attribution&quot;: &quot;Raster file served by \\u003ca href=\\u0027https://github.com/banesullivan/localtileserver\\u0027 target=\\u0027_blank\\u0027\\u003elocaltileserver\\u003c/a\\u003e.&quot;,\n",
       "  &quot;subdomains&quot;: &quot;abc&quot;,\n",
       "  &quot;detectRetina&quot;: false,\n",
       "  &quot;tms&quot;: false,\n",
       "  &quot;opacity&quot;: 0.8,\n",
       "  &quot;bounds&quot;: [[4.499751, 116.50008], [19.75018, 127.000128]],\n",
       "}\n",
       "\n",
       "            );\n",
       "        \n",
       "    \n",
       "            tile_layer_cc0af72d45a46079c3cc578072271c92.addTo(feature_group_cf354fdcc7eff34cb77238322a40e816);\n",
       "        \n",
       "    \n",
       "            feature_group_cf354fdcc7eff34cb77238322a40e816.addTo(map_4b494991d1a727217bc5ed9946a2fbf6);\n",
       "        \n",
       "    \n",
       "            var layer_control_f49a2c477cae798dfe0bf56c06daac65_layers = {\n",
       "                base_layers : {\n",
       "                    &quot;openstreetmap&quot; : tile_layer_688c32fc10e483c7e7eadf292548ffee,\n",
       "                    &quot;opentopomap&quot; : tile_layer_75b222f89d216d50af1af0b2167e7e05,\n",
       "                },\n",
       "                overlays :  {\n",
       "                    &quot;Land Cover and Land Use&quot; : feature_group_cf354fdcc7eff34cb77238322a40e816,\n",
       "                },\n",
       "            };\n",
       "            let layer_control_f49a2c477cae798dfe0bf56c06daac65 = L.control.layers(\n",
       "                layer_control_f49a2c477cae798dfe0bf56c06daac65_layers.base_layers,\n",
       "                layer_control_f49a2c477cae798dfe0bf56c06daac65_layers.overlays,\n",
       "                {\n",
       "  &quot;position&quot;: &quot;topright&quot;,\n",
       "  &quot;collapsed&quot;: true,\n",
       "  &quot;autoZIndex&quot;: true,\n",
       "}\n",
       "            ).addTo(map_4b494991d1a727217bc5ed9946a2fbf6);\n",
       "\n",
       "        \n",
       "&lt;/script&gt;\n",
       "&lt;/html&gt;\" style=\"position:absolute;width:100%;height:100%;left:0;top:0;border:none !important;\" allowfullscreen webkitallowfullscreen mozallowfullscreen></iframe></div></div>"
      ],
      "text/plain": [
       "<cookiecutter_practice.FoliumMap.Map at 0x2acda7b77a0>"
      ]
     },
     "execution_count": 6,
     "metadata": {},
     "output_type": "execute_result"
    }
   ],
   "source": [
    "from cookiecutter_practice import FoliumMap\n",
    "\n",
    "fm = FoliumMap.Map(location=client.center(), zoom_start=client.default_zoom, height=\"100%\")\n",
    "fm.add_basemap(\"OpenTopoMap\")\n",
    "fm.add_raster(raster_path, name=\"Land Cover and Land Use\", opacity=0.8)\n",
    "fm.add_layer_control()\n",
    "fm"
   ]
  },
  {
   "cell_type": "code",
   "execution_count": 3,
   "id": "a045672f",
   "metadata": {},
   "outputs": [],
   "source": [
    "img_tiff = \"https://storage.googleapis.com/dpad-bucket/D2/smi/D2_SMI_2020-03-22T053207_2020-03-22T235959_L1C_COG.tif\"\n",
    "img_raster = rasterio.open(img_tiff)"
   ]
  },
  {
   "cell_type": "code",
   "execution_count": 4,
   "id": "8747cbca",
   "metadata": {},
   "outputs": [
    {
     "data": {
      "text/plain": [
       "BoundingBox(left=119.70654448013111, bottom=14.709973691139146, right=120.78001141552723, top=16.31400474402989)"
      ]
     },
     "execution_count": 4,
     "metadata": {},
     "output_type": "execute_result"
    }
   ],
   "source": [
    "img_raster.bounds"
   ]
  },
  {
   "cell_type": "code",
   "execution_count": 5,
   "id": "193f0c52",
   "metadata": {},
   "outputs": [],
   "source": [
    "import math\n",
    "def get_default_zoom(geotiff_path):\n",
    "  with rasterio.open(geotiff_path) as src:\n",
    "    # Get resolution in units per pixel (e.g., degrees or meters)\n",
    "    res_x, res_y = src.res\n",
    "\n",
    "    # Use the larger value for conservative zoom estimate\n",
    "    resolution = max(res_x, res_y)\n",
    "\n",
    "    # Web Mercator tile size in meters at zoom level 0\n",
    "    initial_resolution = 156543.03392804097  # meters/pixel at equator for tile size 256x256\n",
    "\n",
    "    # Calculate zoom level\n",
    "    zoom = math.log2(initial_resolution / resolution)\n",
    "\n",
    "    return round(zoom)"
   ]
  },
  {
   "cell_type": "code",
   "execution_count": 6,
   "id": "69dc83b7",
   "metadata": {},
   "outputs": [
    {
     "data": {
      "text/plain": [
       "27"
      ]
     },
     "execution_count": 6,
     "metadata": {},
     "output_type": "execute_result"
    }
   ],
   "source": [
    "get_default_zoom(img_tiff)"
   ]
  },
  {
   "cell_type": "code",
   "execution_count": 7,
   "id": "6a7a008c",
   "metadata": {},
   "outputs": [],
   "source": [
    "from rasterio.warp import transform\n",
    "def get_center_latlon(path):\n",
    "  with rasterio.open(path) as src:\n",
    "    bounds = src.bounds\n",
    "    center_x = (bounds.left + bounds.right) / 2\n",
    "    center_y = (bounds.top + bounds.bottom) / 2\n",
    "    lon, lat = transform(src.crs, \"EPSG:4326\", [center_x], [center_y])\n",
    "    return lon[0], lat[0]"
   ]
  },
  {
   "cell_type": "code",
   "execution_count": 8,
   "id": "d7df8524",
   "metadata": {},
   "outputs": [
    {
     "data": {
      "text/plain": [
       "(120.24327794782917, 15.511989217584517)"
      ]
     },
     "execution_count": 8,
     "metadata": {},
     "output_type": "execute_result"
    }
   ],
   "source": [
    "get_center_latlon(img_tiff)"
   ]
  },
  {
   "cell_type": "code",
   "execution_count": 15,
   "id": "70517dd3",
   "metadata": {},
   "outputs": [
    {
     "data": {
      "text/plain": [
       "{'driver': 'GTiff',\n",
       " 'dtype': 'float32',\n",
       " 'nodata': None,\n",
       " 'width': 957,\n",
       " 'height': 1430,\n",
       " 'count': 9,\n",
       " 'crs': CRS.from_wkt('GEOGCS[\"WGS 84\",DATUM[\"WGS_1984\",SPHEROID[\"WGS 84\",6378137,298.257223563,AUTHORITY[\"EPSG\",\"7030\"]],AUTHORITY[\"EPSG\",\"6326\"]],PRIMEM[\"Greenwich\",0,AUTHORITY[\"EPSG\",\"8901\"]],UNIT[\"degree\",0.0174532925199433,AUTHORITY[\"EPSG\",\"9122\"]],AXIS[\"Latitude\",NORTH],AXIS[\"Longitude\",EAST],AUTHORITY[\"EPSG\",\"4326\"]]'),\n",
       " 'transform': Affine(0.0011217000369865351, 0.0, 119.70654448013111,\n",
       "        0.0, -0.0011217000369865351, 16.31400474402989)}"
      ]
     },
     "execution_count": 15,
     "metadata": {},
     "output_type": "execute_result"
    }
   ],
   "source": [
    "img_raster.meta"
   ]
  },
  {
   "cell_type": "code",
   "execution_count": 5,
   "id": "e32aa228",
   "metadata": {},
   "outputs": [],
   "source": [
    "lf.add_image(\"https://storage.googleapis.com/dpad-bucket/D2/thumbnail/D2_SMI_2020-03-22T053207_2020-03-22T235959_THUMB.png\", bounds=((img_raster.bounds[1],img_raster.bounds[0]), (img_raster.bounds[3],img_raster.bounds[2])), name=\"SMI\")"
   ]
  },
  {
   "cell_type": "code",
   "execution_count": 6,
   "id": "80ec86bc",
   "metadata": {},
   "outputs": [],
   "source": [
    "lf.add_layer_control()"
   ]
  },
  {
   "cell_type": "code",
   "execution_count": 25,
   "id": "786f4903",
   "metadata": {},
   "outputs": [],
   "source": [
    "lf.zoom = 7\n",
    "lf.center = (15.511989217584517, 120.24327794782917)"
   ]
  },
  {
   "cell_type": "code",
   "execution_count": 7,
   "id": "837a7b88",
   "metadata": {},
   "outputs": [
    {
     "data": {
      "application/vnd.jupyter.widget-view+json": {
       "model_id": "da7b3279cdb84bd6a8d38323870ff62e",
       "version_major": 2,
       "version_minor": 0
      },
      "text/plain": [
       "Map(center=[15.511989217584517, 120.24327794782917], controls=(ZoomControl(options=['position', 'zoom_in_text'…"
      ]
     },
     "execution_count": 7,
     "metadata": {},
     "output_type": "execute_result"
    }
   ],
   "source": [
    "lf"
   ]
  },
  {
   "cell_type": "code",
   "execution_count": null,
   "id": "317a4e5a",
   "metadata": {},
   "outputs": [],
   "source": []
  }
 ],
 "metadata": {
  "kernelspec": {
   "display_name": "geo",
   "language": "python",
   "name": "python3"
  },
  "language_info": {
   "codemirror_mode": {
    "name": "ipython",
    "version": 3
   },
   "file_extension": ".py",
   "mimetype": "text/x-python",
   "name": "python",
   "nbconvert_exporter": "python",
   "pygments_lexer": "ipython3",
   "version": "3.12.9"
  }
 },
 "nbformat": 4,
 "nbformat_minor": 5
}
